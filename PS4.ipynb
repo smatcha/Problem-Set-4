{
 "cells": [
  {
   "cell_type": "code",
   "execution_count": 1,
   "metadata": {},
   "outputs": [],
   "source": [
    "import sqlite3\n",
    "conn = sqlite3.connect('people.sqlite')\n",
    "cur = conn.cursor()\n",
    "cur.execute('DROP TABLE IF EXISTS US')\n",
    "cur.execute('CREATE TABLE US (first_name TEXT, last_name TEXT, company_name TEXT, address TEXT, city TEXT, county TEXT, state TEXT, zip INTEGER, phone1 INTEGER, phone2 INTEGER, email TEXT, web TEXT)')\n",
    "\n",
    "conn.close()\n"
   ]
  },
  {
   "cell_type": "code",
   "execution_count": 2,
   "metadata": {},
   "outputs": [],
   "source": [
    "from sqlalchemy import create_engine\n",
    "from sqlalchemy import Table, Column, Integer, String, MetaData, ForeignKey\n",
    "from sqlalchemy import exists\n",
    "from sqlalchemy import sql, select, join, desc\n",
    "\n",
    "# Create a sqlite database \n",
    "engine = create_engine('sqlite:///people.sqlite')\n",
    "\n",
    "metadata=MetaData(engine)\n",
    "\n",
    "# Create US table.\n",
    "US = Table ('US', metadata,\n",
    "                 Column('first_name', String),\n",
    "                 Column('last_name', String),\n",
    "                 Column('company_name', String),\n",
    "                 Column('address', String),\n",
    "                 Column('city', String),\n",
    "                 Column('county', String),\n",
    "                 Column('state', String),\n",
    "                 Column('zip', Integer),\n",
    "                 Column('phone1', Integer),\n",
    "                 Column('phone2', Integer),\n",
    "                 Column('email', String),\n",
    "                 Column('web', String)\n",
    "                )\n",
    "                 \n",
    "metadata.create_all(engine)"
   ]
  },
  {
   "cell_type": "code",
   "execution_count": null,
   "metadata": {},
   "outputs": [],
   "source": []
  }
 ],
 "metadata": {
  "kernelspec": {
   "display_name": "Python 3",
   "language": "python",
   "name": "python3"
  },
  "language_info": {
   "codemirror_mode": {
    "name": "ipython",
    "version": 3
   },
   "file_extension": ".py",
   "mimetype": "text/x-python",
   "name": "python",
   "nbconvert_exporter": "python",
   "pygments_lexer": "ipython3",
   "version": "3.6.5"
  }
 },
 "nbformat": 4,
 "nbformat_minor": 2
}
